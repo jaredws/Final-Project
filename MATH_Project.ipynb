{
 "cells": [
  {
   "cell_type": "markdown",
   "metadata": {},
   "source": [
    "## Species\n",
    "\n",
    "### Prey\n",
    "Table Coral                     - $\\rho_1(x,t)$ \n",
    "\n",
    "Branch Coral                    - $\\rho_2(x,t)$\n",
    "\n",
    "### Predator\n",
    "Crown of Thorns Starfish (CoT)  - $\\beta(x,t)$ \n",
    "\n",
    "## Assumptions\n",
    "\n",
    "- CoT only consumes two types of coral, Table and Branch\n",
    "- CoT consumes Branch coral at a faster rate then Tabel coral, b>a\n",
    "- Both corals grow independent of each other\n",
    "- Prey will grow in the absense of predators\n",
    "- Predator will encounter prey based on principles of mass action\n",
    "- The effect of environmental factors, others predators, etc. is ignored\n",
    "\n",
    "## Predator Prey System\n",
    "\\begin{align}\n",
    "\\frac{\\partial \\rho_1}{\\partial t} &= P_1\\rho_1 - a\\rho_1\\beta + \\kappa_1\\frac{\\partial^2\\rho_1}{\\partial x^2} \\\\\n",
    "\\frac{\\partial \\rho_2}{\\partial t} &= P_2\\rho_2 - b\\rho_2\\beta + \\kappa_2\\frac{\\partial^2\\rho_2}{\\partial x^2} \\\\\n",
    "\\frac{\\partial \\beta}{\\partial t} &= (a\\rho_1+b\\rho_2)\\beta - d\\beta + \\kappa_3\\frac{\\partial_2\\beta}{\\partial x^2}\n",
    "\\end{align}"
   ]
  },
  {
   "cell_type": "code",
   "execution_count": null,
   "metadata": {
    "collapsed": true
   },
   "outputs": [],
   "source": []
  }
 ],
 "metadata": {
  "kernelspec": {
   "display_name": "Python 3",
   "language": "python",
   "name": "python3"
  },
  "language_info": {
   "codemirror_mode": {
    "name": "ipython",
    "version": 3
   },
   "file_extension": ".py",
   "mimetype": "text/x-python",
   "name": "python",
   "nbconvert_exporter": "python",
   "pygments_lexer": "ipython3",
   "version": "3.6.3"
  }
 },
 "nbformat": 4,
 "nbformat_minor": 2
}
